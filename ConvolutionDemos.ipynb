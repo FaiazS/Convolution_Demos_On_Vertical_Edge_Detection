{
  "nbformat": 4,
  "nbformat_minor": 0,
  "metadata": {
    "colab": {
      "provenance": [],
      "authorship_tag": "ABX9TyO/JY9/BXmRoP6TqXseZy8i",
      "include_colab_link": true
    },
    "kernelspec": {
      "name": "python3",
      "display_name": "Python 3"
    },
    "language_info": {
      "name": "python"
    }
  },
  "cells": [
    {
      "cell_type": "markdown",
      "metadata": {
        "id": "view-in-github",
        "colab_type": "text"
      },
      "source": [
        "<a href=\"https://colab.research.google.com/github/FaiazS/Convolution_Demos_On_Vertical_Edge_Detection/blob/main/ConvolutionDemos.ipynb\" target=\"_parent\"><img src=\"https://colab.research.google.com/assets/colab-badge.svg\" alt=\"Open In Colab\"/></a>"
      ]
    },
    {
      "cell_type": "markdown",
      "source": [
        "Correlate with Mode \"same\" - Vertical Edge Detection"
      ],
      "metadata": {
        "id": "dgHk8DvzLI-E"
      }
    },
    {
      "cell_type": "code",
      "source": [
        "#Correlate - without flipping kernel\n",
        "#Mode same - Output same size (one pixel padding added)\n",
        "\n",
        "import numpy as np\n",
        "import matplotlib.pyplot as plt\n",
        "import tensorflow as tf\n",
        "import scipy.signal as correlate2d"
      ],
      "metadata": {
        "id": "Jcgc4h-CLUFk"
      },
      "execution_count": 8,
      "outputs": []
    },
    {
      "cell_type": "code",
      "source": [
        "#Step 1 - Define a binary image of \"7\" (black = 0, white = 255)\n",
        "\n",
        "image = np.array([\n",
        "\n",
        "    [255, 255, 255, 255, 255],\n",
        "    [  0,   0,   0, 255,   0],\n",
        "    [  0,   0,   0, 255,   0],\n",
        "    [  0,   0,   0, 255,   0],\n",
        "    [  0,   0,   0, 255,   0]\n",
        "\n",
        "], dtype = np.float32)\n"
      ],
      "metadata": {
        "id": "eepwatglMNGU"
      },
      "execution_count": 9,
      "outputs": []
    },
    {
      "cell_type": "code",
      "source": [
        "# Step 2 - Define a Vertical Edge Detection Kernel (Sobel-like)\n",
        "\n",
        "from scipy.signal import correlate2d\n",
        "\n",
        "vertical_kernel = np.array([[-1,0,1],\n",
        "\n",
        "                            [-2,0,2],\n",
        "\n",
        "                            [-1,0,1]\n",
        "], dtype = np.float32)\n",
        "\n",
        "correlate_result = correlate2d(image, vertical_kernel, mode = 'same')"
      ],
      "metadata": {
        "id": "YdoElJ5PN_3E"
      },
      "execution_count": 38,
      "outputs": []
    },
    {
      "cell_type": "code",
      "source": [
        "# Visualizing the results\n",
        "\n",
        "fig, axis = plt.subplots(1, 2, figsize = (8, 4))\n",
        "\n",
        "axis[0].imshow(image, cmap = 'gray', vmin = 0, vmax = 255)\n",
        "axis[0].set_title('Original Image (7)')\n",
        "\n",
        "axis[1].imshow(correlate_result, cmap ='gray')\n",
        "axis[1].set_title('Vertical Edge Detection (Correlation)')\n",
        "\n",
        "plt.show()"
      ],
      "metadata": {
        "colab": {
          "base_uri": "https://localhost:8080/",
          "height": 364
        },
        "id": "l_rUZhZ1RhON",
        "outputId": "827af1e5-460d-4cd4-f77d-e9090cc85e45"
      },
      "execution_count": 39,
      "outputs": [
        {
          "output_type": "display_data",
          "data": {
            "text/plain": [
              "<Figure size 800x400 with 2 Axes>"
            ],
            "image/png": "[encoded data removed]"
          },
          "metadata": {}
        }
      ]
    },
    {
      "cell_type": "markdown",
      "source": [
        "Correlate with Mode \"valid\" - Vertical Edge Detection"
      ],
      "metadata": {
        "id": "Eco1yhXkXK0U"
      }
    },
    {
      "cell_type": "code",
      "source": [],
      "metadata": {
        "id": "FgOJ766bXQG0"
      },
      "execution_count": null,
      "outputs": []
    },
    {
      "cell_type": "code",
      "source": [
        "import numpy as np\n",
        "import matplotlib.pyplot as plt\n",
        "import tensorflow as tf\n",
        "import scipy.signal as correlate2d"
      ],
      "metadata": {
        "id": "1Y2WTmd7XZN6"
      },
      "execution_count": 40,
      "outputs": []
    },
    {
      "cell_type": "code",
      "source": [
        "#Step 1 - Define a binary image of \"7\" (black = 0, white = 255)\n",
        "\n",
        "image = np.array([\n",
        "\n",
        "    [255, 255, 255, 255, 255],\n",
        "    [  0,   0,   0, 255,   0],\n",
        "    [  0,   0,   0, 255,   0],\n",
        "    [  0,   0,   0, 255,   0],\n",
        "    [  0,   0,   0, 255,   0]\n",
        "\n",
        "], dtype = np.float32)\n"
      ],
      "metadata": {
        "id": "rjq6qGk0XdTU"
      },
      "execution_count": 41,
      "outputs": []
    },
    {
      "cell_type": "code",
      "source": [
        "# Step 2 - Define a Vertical Edge Detection Kernel (Sobel-like)\n",
        "\n",
        "from scipy.signal import correlate2d\n",
        "\n",
        "vertical_kernel = np.array([[-1,0,1],\n",
        "\n",
        "                            [-2,0,2],\n",
        "\n",
        "                            [-1,0,1]\n",
        "], dtype = np.float32)\n",
        "\n",
        "correlate_result = correlate2d(image, vertical_kernel, mode = 'valid')"
      ],
      "metadata": {
        "id": "PN-PP8sRXiBF"
      },
      "execution_count": 42,
      "outputs": []
    },
    {
      "cell_type": "code",
      "source": [
        "# Visualizing the results\n",
        "\n",
        "fig, axis = plt.subplots(1, 2, figsize = (8, 4))\n",
        "\n",
        "axis[0].imshow(image, cmap = 'gray', vmin = 0, vmax = 255)\n",
        "axis[0].set_title('Original Image (7)')\n",
        "\n",
        "axis[1].imshow(correlate_result, cmap ='gray')\n",
        "axis[1].set_title('Vertical Edge Detection (Correlation)')\n",
        "\n",
        "plt.show()"
      ],
      "metadata": {
        "colab": {
          "base_uri": "https://localhost:8080/",
          "height": 364
        },
        "id": "XUE0AsF2XpjU",
        "outputId": "251deb2a-dc1f-4139-c96f-040c0d56d4de"
      },
      "execution_count": 43,
      "outputs": [
        {
          "output_type": "display_data",
          "data": {
            "text/plain": [
              "<Figure size 800x400 with 2 Axes>"
            ],
            "image/png": "[encoded data removed]"
          },
          "metadata": {}
        }
      ]
    },
    {
      "cell_type": "markdown",
      "source": [
        "Correlate with Mode \"full\" - Vertical Edge Detection"
      ],
      "metadata": {
        "id": "ZMooVBZTX09E"
      }
    },
    {
      "cell_type": "code",
      "source": [],
      "metadata": {
        "id": "uCvsfub9YjnV"
      },
      "execution_count": null,
      "outputs": []
    },
    {
      "cell_type": "code",
      "source": [
        "import numpy as np\n",
        "import matplotlib.pyplot as plt\n",
        "import tensorflow as tf\n",
        "import scipy.signal as correlate2d"
      ],
      "metadata": {
        "id": "lrTEjC4_Yrsu"
      },
      "execution_count": 44,
      "outputs": []
    },
    {
      "cell_type": "code",
      "source": [
        "#Step 1 - Define a binary image of \"7\" (black = 0, white = 255)\n",
        "\n",
        "image = np.array([\n",
        "\n",
        "    [255, 255, 255, 255, 255],\n",
        "    [  0,   0,   0, 255,   0],\n",
        "    [  0,   0,   0, 255,   0],\n",
        "    [  0,   0,   0, 255,   0],\n",
        "    [  0,   0,   0, 255,   0]\n",
        "\n",
        "], dtype = np.float32)\n"
      ],
      "metadata": {
        "id": "FUgXxFABYuwM"
      },
      "execution_count": 45,
      "outputs": []
    },
    {
      "cell_type": "code",
      "source": [
        "# Step 2 - Define a Vertical Edge Detection Kernel (Sobel-like)\n",
        "\n",
        "from scipy.signal import correlate2d\n",
        "\n",
        "vertical_kernel = np.array([[-1,0,1],\n",
        "\n",
        "                            [-2,0,2],\n",
        "\n",
        "                            [-1,0,1]\n",
        "], dtype = np.float32)\n",
        "\n",
        "correlate_result = correlate2d(image, vertical_kernel, mode = 'full')"
      ],
      "metadata": {
        "id": "x27erKwJY29N"
      },
      "execution_count": 46,
      "outputs": []
    },
    {
      "cell_type": "code",
      "source": [
        "# Visualizing the results\n",
        "\n",
        "fig, axis = plt.subplots(1, 2, figsize = (8, 4))\n",
        "\n",
        "axis[0].imshow(image, cmap = 'gray', vmin = 0, vmax = 255)\n",
        "axis[0].set_title('Original Image (7)')\n",
        "\n",
        "axis[1].imshow(correlate_result, cmap ='gray')\n",
        "axis[1].set_title('Vertical Edge Detection (Correlation)')\n",
        "\n",
        "plt.show()"
      ],
      "metadata": {
        "colab": {
          "base_uri": "https://localhost:8080/",
          "height": 364
        },
        "id": "EUgFeWKrY9QI",
        "outputId": "2bc0be2e-ce4a-4a7b-be78-2921bd795916"
      },
      "execution_count": 47,
      "outputs": [
        {
          "output_type": "display_data",
          "data": {
            "text/plain": [
              "<Figure size 800x400 with 2 Axes>"
            ],
            "image/png": "[encoded data removed]"
          },
          "metadata": {}
        }
      ]
    },
    {
      "cell_type": "code",
      "source": [],
      "metadata": {
        "id": "M4OZF_CeaUtM"
      },
      "execution_count": null,
      "outputs": []
    }
  ]
}